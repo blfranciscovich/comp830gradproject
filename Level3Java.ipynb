{
 "cells": [
  {
   "cell_type": "markdown",
   "metadata": {},
   "source": [
    "Bridget Franciscovich\n",
    "COMP830\n",
    "University of New Hampshire"
   ]
  },
  {
   "cell_type": "markdown",
   "metadata": {},
   "source": [
    "# Level 3: Classes and Objects"
   ]
  },
  {
   "cell_type": "markdown",
   "metadata": {},
   "source": [
    "## 3a \n",
    "### Overview of Classes and Objects\n",
    "In object-oriented programming languages, like Java and Python, classes allow us to define our own types. Once we have defined those types, we, in fact, made a blueprint of what this class can do. Once we have our blueprint, we can then create objects of that class or type. An object is an instance of a class, think of it as you were Apple, they created a blueprint of how their phones look and work. Every time the factory produces a cell phone, it's an instance of the blueprint design. We use this concept in object-oriented programming; we need to create our blueprint and use it through objects."
   ]
  },
  {
   "cell_type": "code",
   "execution_count": 1,
   "metadata": {},
   "outputs": [
    {
     "name": "stderr",
     "output_type": "stream",
     "text": [
      "[ERROR] null\n",
      "org.codehaus.groovy.control.MultipleCompilationErrorsException: startup failed:\n",
      "Script1.groovy: 1: expecting EOF, found 'import' @ line 1, column 22.\n",
      "   from IPython.display import Image\n",
      "                        ^\n",
      "\n",
      "1 error\n",
      "\n",
      "\tat org.codehaus.groovy.control.ErrorCollector.failIfErrors(ErrorCollector.java:310)\n",
      "\tat org.codehaus.groovy.control.ErrorCollector.addFatalError(ErrorCollector.java:150)\n",
      "\tat org.codehaus.groovy.control.ErrorCollector.addError(ErrorCollector.java:120)\n",
      "\tat org.codehaus.groovy.control.ErrorCollector.addError(ErrorCollector.java:132)\n",
      "\tat org.codehaus.groovy.control.SourceUnit.addError(SourceUnit.java:350)\n",
      "\tat org.codehaus.groovy.antlr.AntlrParserPlugin.transformCSTIntoAST(AntlrParserPlugin.java:144)\n",
      "\tat org.codehaus.groovy.antlr.AntlrParserPlugin.parseCST(AntlrParserPlugin.java:110)\n",
      "\tat org.codehaus.groovy.control.SourceUnit.parse(SourceUnit.java:234)\n",
      "\tat org.codehaus.groovy.control.CompilationUnit$1.call(CompilationUnit.java:168)\n",
      "\tat org.codehaus.groovy.control.CompilationUnit.applyToSourceUnits(CompilationUnit.java:943)\n",
      "\tat org.codehaus.groovy.control.CompilationUnit.doPhaseOperation(CompilationUnit.java:605)\n",
      "\tat org.codehaus.groovy.control.CompilationUnit.processPhaseOperations(CompilationUnit.java:581)\n",
      "\tat org.codehaus.groovy.control.CompilationUnit.compile(CompilationUnit.java:558)\n",
      "\tat groovy.lang.GroovyClassLoader.doParseClass(GroovyClassLoader.java:298)\n",
      "\tat groovy.lang.GroovyClassLoader.parseClass(GroovyClassLoader.java:268)\n",
      "\tat groovy.lang.GroovyClassLoader.parseClass(GroovyClassLoader.java:254)\n",
      "\tat groovy.lang.GroovyClassLoader.parseClass(GroovyClassLoader.java:250)\n",
      "\tat org.scijava.plugins.scripting.groovy.GroovyScriptEngine.getScriptClass(GroovyScriptEngine.java:319)\n",
      "\tat org.scijava.plugins.scripting.groovy.GroovyScriptEngine.eval(GroovyScriptEngine.java:122)\n",
      "\tat javax.script.AbstractScriptEngine.eval(AbstractScriptEngine.java:264)\n",
      "\tat org.scijava.script.ScriptModule.run(ScriptModule.java:160)\n",
      "\tat org.scijava.module.ModuleRunner.run(ModuleRunner.java:168)\n",
      "\tat org.scijava.jupyter.kernel.evaluator.Worker.run(Worker.java:108)\n",
      "\tat org.scijava.thread.DefaultThreadService$2.run(DefaultThreadService.java:221)\n",
      "\tat java.util.concurrent.Executors$RunnableAdapter.call(Executors.java:511)\n",
      "\tat java.util.concurrent.FutureTask.run(FutureTask.java:266)\n",
      "\tat java.util.concurrent.ThreadPoolExecutor.runWorker(ThreadPoolExecutor.java:1142)\n",
      "\tat java.util.concurrent.ThreadPoolExecutor$Worker.run(ThreadPoolExecutor.java:617)\n",
      "\tat java.lang.Thread.run(Thread.java:745)\n"
     ]
    }
   ],
   "source": [
    "from IPython.display import Image\n",
    "Image(\"iPhoneClass.png\")"
   ]
  },
  {
   "cell_type": "markdown",
   "metadata": {},
   "source": [
    "## 3b \n",
    "### Constructors\n",
    "In Java and Python, constructors have the same name as the class and are declared public. Constructors allow programmers to get an instance of the class or for example, for Apple to get an instance of their cellphone blueprint.\n",
    "\n",
    "In Java, constructors are declared without a return type.\n",
    "\n",
    "In Python, every class has an \"__init__\" function as the constructor and uses 'self'.\n",
    "\n",
    "Some of the most important differences between these languages in the code below are:\n",
    "1. In Java, you use this.variable = variable\n",
    "2. In Python, you need to pass self as an argument in the constructor\n",
    "3. In Python, you use self.variable = variable"
   ]
  },
  {
   "cell_type": "markdown",
   "metadata": {},
   "source": [
    "#### Python Code\n",
    "To run this code, make sure you are in Level 3 Python"
   ]
  },
  {
   "cell_type": "code",
   "execution_count": 2,
   "metadata": {},
   "outputs": [],
   "source": [
    "/*\n",
    "class Testing():\n",
    "    x = 0\n",
    "    z = 1\n",
    "    def __init__(self, x, z):\n",
    "        self.x = x\n",
    "        self.z = z\n",
    "    def getSelf(self):\n",
    "        print(self.x, self.z)\n",
    "a = Testing(0, 1)\n",
    "b = Testing(5, 6)\n",
    "a.getSelf()\n",
    "b.getSelf()\n",
    "*/"
   ]
  },
  {
   "cell_type": "markdown",
   "metadata": {},
   "source": [
    "#### Java Code\n",
    "To run this code, make sure you are in Level 3 Java"
   ]
  },
  {
   "cell_type": "code",
   "execution_count": 3,
   "metadata": {},
   "outputs": [
    {
     "name": "stdout",
     "output_type": "stream",
     "text": [
      "0\n",
      "1\n"
     ]
    }
   ],
   "source": [
    "public class Testing \n",
    "{ \n",
    "    int x = 0; \n",
    "    int z = 1; \n",
    "  \n",
    "    public Testing() \n",
    "    { \n",
    "        this.x = x;\n",
    "        this.z = z;\n",
    "    } \n",
    "        //We will cover the main function further in this level\n",
    "        public static void main (String[] args) \n",
    "    { \n",
    "        Testing test = new Testing(); \n",
    "\n",
    "        System.out.println(test.x); \n",
    "        System.out.println(test.z); \n",
    "    } \n",
    "} "
   ]
  },
  {
   "cell_type": "markdown",
   "metadata": {},
   "source": [
    "## 3c\n",
    "### Setters and Getters\n",
    "Getters and setters hold the fields of a class by making them accessible through its public methods and keep the values private. In Java, getters and setters are common practice but are not needed in Python. We can code them as seen in example 1; however, Python you can access class or object members directly. You can also use Python's property decorator to perform the functions of a setter and getter as seen in example 2.\n",
    "\n",
    "Some of the most important differences between these languages in the code below are:\n",
    "1. In Java, setters and getters are a common practice\n",
    "2. In Python, to use a similar functionality, you need to use the property decorator"
   ]
  },
  {
   "cell_type": "markdown",
   "metadata": {},
   "source": [
    "#### Python Code\n",
    "To run this code, make sure you are in Level 3 Python"
   ]
  },
  {
   "cell_type": "code",
   "execution_count": 4,
   "metadata": {},
   "outputs": [],
   "source": [
    "/*\n",
    "#Example 1, Java-style setters and getters\n",
    "class Test():\n",
    "    def __init__(self, testing):\n",
    "        self._testing = testing\n",
    "    def get_test(self):\n",
    "        return self._testing\n",
    "    def set_test(self, testing):\n",
    "        self._testing = testing\n",
    "r = Test(5)\n",
    "r.get_test()\n",
    "r.set_test(6)\n",
    "*/"
   ]
  },
  {
   "cell_type": "code",
   "execution_count": 5,
   "metadata": {},
   "outputs": [],
   "source": [
    "/*\n",
    "#Example 2, Python's property decorator\n",
    "class Test():\n",
    "    def __init__(self, testing):\n",
    "        self._testing = testing\n",
    "\n",
    "    @property\n",
    "    def testing(self):\n",
    "        return self._testing\n",
    "\n",
    "    @testing.setter\n",
    "    def testing(self, value):\n",
    "        self._testing = value\n",
    "\n",
    "    @testing.deleter\n",
    "    def testing(self):\n",
    "        del self._testing\n",
    "\n",
    "r = Test(5)\n",
    "r.testing  \n",
    "r.testing = 6\n",
    "*/"
   ]
  },
  {
   "cell_type": "markdown",
   "metadata": {},
   "source": [
    "#### Java Code\n",
    "To run this code, make sure you are in Level 3 Java"
   ]
  },
  {
   "cell_type": "code",
   "execution_count": 6,
   "metadata": {},
   "outputs": [
    {
     "name": "stderr",
     "output_type": "stream",
     "text": [
      "[ERROR] null\n",
      "groovy.lang.GroovyRuntimeException: Failed to create Script instance for class: class Test. Reason: java.lang.InstantiationException: Test\n",
      "\tat org.codehaus.groovy.runtime.InvokerHelper.createScript(InvokerHelper.java:466)\n",
      "\tat org.scijava.plugins.scripting.groovy.GroovyScriptEngine.eval(GroovyScriptEngine.java:239)\n",
      "\tat org.scijava.plugins.scripting.groovy.GroovyScriptEngine.eval(GroovyScriptEngine.java:122)\n",
      "\tat javax.script.AbstractScriptEngine.eval(AbstractScriptEngine.java:264)\n",
      "\tat org.scijava.script.ScriptModule.run(ScriptModule.java:160)\n",
      "\tat org.scijava.module.ModuleRunner.run(ModuleRunner.java:168)\n",
      "\tat org.scijava.jupyter.kernel.evaluator.Worker.run(Worker.java:108)\n",
      "\tat org.scijava.thread.DefaultThreadService$2.run(DefaultThreadService.java:221)\n",
      "\tat java.util.concurrent.Executors$RunnableAdapter.call(Executors.java:511)\n",
      "\tat java.util.concurrent.FutureTask.run(FutureTask.java:266)\n",
      "\tat java.util.concurrent.ThreadPoolExecutor.runWorker(ThreadPoolExecutor.java:1142)\n",
      "\tat java.util.concurrent.ThreadPoolExecutor$Worker.run(ThreadPoolExecutor.java:617)\n",
      "\tat java.lang.Thread.run(Thread.java:745)\n",
      "Caused by: java.lang.InstantiationException: Test\n",
      "\tat java.lang.Class.newInstance(Class.java:427)\n",
      "\tat org.codehaus.groovy.runtime.InvokerHelper.createScript(InvokerHelper.java:438)\n",
      "\t... 12 more\n",
      "Caused by: java.lang.NoSuchMethodException: Test.<init>()\n",
      "\tat java.lang.Class.getConstructor0(Class.java:3082)\n",
      "\tat java.lang.Class.newInstance(Class.java:412)\n",
      "\t... 13 more\n"
     ]
    }
   ],
   "source": [
    "//Jupyter Notebook doesn't support Java code as it does Python code, therefore this code cannot be run\n",
    "//Let's get and set in Java\n",
    "public class Test {\n",
    "    int testing;\n",
    "    \n",
    "    public Test(int theTesting) {\n",
    "        testing = theTesting;\n",
    "    }\n",
    "    //Getter method\n",
    "    public int getTest() { \n",
    "        return testing;\n",
    "    }\n",
    "    //Setter method\n",
    "    public void setTest(int theTesting) { \n",
    "        testing = theTesting;\n",
    "    }\n",
    "    \n",
    "}"
   ]
  },
  {
   "cell_type": "code",
   "execution_count": 7,
   "metadata": {},
   "outputs": [
    {
     "name": "stdout",
     "output_type": "stream",
     "text": [
      "Test@c19da80\n"
     ]
    }
   ],
   "source": [
    "// main method for testing, this will be covered below\n",
    "public class Run\n",
    "{\n",
    "  public static void main(String[] args)\n",
    "  {\n",
    "    Test t = new Test(5);\n",
    "      System.out.println(t);\n",
    "  }\n",
    "}"
   ]
  },
  {
   "cell_type": "markdown",
   "metadata": {},
   "source": [
    "## 3d\n",
    "### Main Function\n",
    "In Java, is the entry point to the program. The syntax is always public static void main(String[] args) and needs to appear in at least one class for the program to run.\n",
    "\n",
    "In Python, there is no Main function as it is an interpreted language and the program gets executed line by line. Take example 1 below, even though the class and function are called main, nothing gets printed. However, Python does have a function, as seen in example 2: if__name__==__main__, this function acts as the main function. It sets the special variable __name__ to the value __main__, and when it's executed and the __name__ if your program equals __main__, it will run."
   ]
  },
  {
   "cell_type": "markdown",
   "metadata": {},
   "source": [
    "#### Python Code\n",
    "To run this code, make sure you are in Level 3 Python"
   ]
  },
  {
   "cell_type": "code",
   "execution_count": 8,
   "metadata": {},
   "outputs": [],
   "source": [
    "/*\n",
    "#Example 1\n",
    "class Main:\n",
    "    def main():\n",
    "        print(\"hello world\")\n",
    "*/"
   ]
  },
  {
   "cell_type": "code",
   "execution_count": 9,
   "metadata": {},
   "outputs": [],
   "source": [
    "/*\n",
    "#Example 2\n",
    "class Main:\n",
    "    def main():\n",
    "        print(\"Hello World!\")\n",
    "  \n",
    "    if __name__== \"__main__\":\n",
    "        main()\n",
    "*/"
   ]
  },
  {
   "cell_type": "markdown",
   "metadata": {},
   "source": [
    "#### Java Code\n",
    "To run this code, make sure you are in Level 3 Java"
   ]
  },
  {
   "cell_type": "code",
   "execution_count": 10,
   "metadata": {},
   "outputs": [
    {
     "name": "stdout",
     "output_type": "stream",
     "text": [
      "Hello World\n"
     ]
    }
   ],
   "source": [
    "//Let's use Java's Main function\n",
    "public class Run {\n",
    "\n",
    "    static void main(String[] args){\n",
    "\n",
    "        System.out.println(\"Hello World\");\n",
    "    }\n",
    "}"
   ]
  },
  {
   "cell_type": "markdown",
   "metadata": {},
   "source": [
    "## 3e\n",
    "### Interface\n",
    "In Java, an interface is a type of class that contains public abstract methods. An abstract method does have a body of code and are used for the interface to define what the class needs to implement to the interface.\n",
    "\n",
    "In Python, there is no interface keyword, and you use \"Duck Typing\" instead; if an object looks like a duck, quacks like a duck, and swims like a duck, it's most likely a duck. This means in runtime, you don't check the type of an object, but you invoke a method that is expected to within the object. If it works as we expected, we move on, if it doesn't we try again. This can be tricky though, so Python coders often use exceptions."
   ]
  },
  {
   "cell_type": "markdown",
   "metadata": {},
   "source": [
    "#### Python Code\n",
    "To run this code, make sure you are in Level 3 Python"
   ]
  },
  {
   "cell_type": "code",
   "execution_count": 11,
   "metadata": {},
   "outputs": [],
   "source": [
    "/*\n",
    "class Duck:\n",
    "   def quack():\n",
    "      print('Quack!')\n",
    "class Swan:\n",
    "    def quack():\n",
    "        print('Quack!')\n",
    "\n",
    "Duck.quack()\n",
    "Swan.quack()\n",
    "*/"
   ]
  },
  {
   "cell_type": "markdown",
   "metadata": {},
   "source": [
    "#### Java Code\n",
    "To run this code, make sure you are in Level 3 Java"
   ]
  },
  {
   "cell_type": "code",
   "execution_count": 12,
   "metadata": {},
   "outputs": [
    {
     "name": "stderr",
     "output_type": "stream",
     "text": [
      "[ERROR] null\n",
      "groovy.lang.GroovyRuntimeException: Failed to create Script instance for class: interface Animal. Reason: java.lang.InstantiationException: Animal\n",
      "\tat org.codehaus.groovy.runtime.InvokerHelper.createScript(InvokerHelper.java:466)\n",
      "\tat org.scijava.plugins.scripting.groovy.GroovyScriptEngine.eval(GroovyScriptEngine.java:239)\n",
      "\tat org.scijava.plugins.scripting.groovy.GroovyScriptEngine.eval(GroovyScriptEngine.java:122)\n",
      "\tat javax.script.AbstractScriptEngine.eval(AbstractScriptEngine.java:264)\n",
      "\tat org.scijava.script.ScriptModule.run(ScriptModule.java:160)\n",
      "\tat org.scijava.module.ModuleRunner.run(ModuleRunner.java:168)\n",
      "\tat org.scijava.jupyter.kernel.evaluator.Worker.run(Worker.java:108)\n",
      "\tat org.scijava.thread.DefaultThreadService$2.run(DefaultThreadService.java:221)\n",
      "\tat java.util.concurrent.Executors$RunnableAdapter.call(Executors.java:511)\n",
      "\tat java.util.concurrent.FutureTask.run(FutureTask.java:266)\n",
      "\tat java.util.concurrent.ThreadPoolExecutor.runWorker(ThreadPoolExecutor.java:1142)\n",
      "\tat java.util.concurrent.ThreadPoolExecutor$Worker.run(ThreadPoolExecutor.java:617)\n",
      "\tat java.lang.Thread.run(Thread.java:745)\n",
      "Caused by: java.lang.InstantiationException: Animal\n",
      "\tat java.lang.Class.newInstance(Class.java:427)\n",
      "\tat org.codehaus.groovy.runtime.InvokerHelper.createScript(InvokerHelper.java:438)\n",
      "\t... 12 more\n",
      "Caused by: java.lang.NoSuchMethodException: Animal.<init>()\n",
      "\tat java.lang.Class.getConstructor0(Class.java:3082)\n",
      "\tat java.lang.Class.newInstance(Class.java:412)\n",
      "\t... 13 more\n"
     ]
    }
   ],
   "source": [
    "//Java interface requires more code\n",
    "\n",
    "interface Animal{\n",
    "  public void test();\n",
    "}\n",
    "class Duck implements Animal{\n",
    "   public void test(){\n",
    "     System.out.println(\"Quack\");\n",
    "  }\n",
    "   static void main(String[] args){\n",
    "     Animal a = new Duck();\n",
    "     a.test();\n",
    "  }\n",
    "}"
   ]
  },
  {
   "cell_type": "markdown",
   "metadata": {},
   "source": [
    "## 3f\n",
    "### Superclass\n",
    "A superclass is the parent relation between two or more objects or subclasses. Other classes inherit from the superclass. For example, if we had the superclass, person, it holds the person's first name and last name. We then would need subclasses, studnt, teacher, and staff, to hold specialized information about these people that wouldn't be needed in the overarching superclass. The subclasses inherit all of the information from the superclass, and the subclass will also hold other specialized information.\n",
    "\n",
    "Some of the most important differences between these languages in the code below are:\n",
    "1. In Java, the subclass needs to extend the superclass\n",
    "2. In Python, the superclass is the argument in the subclass"
   ]
  },
  {
   "cell_type": "markdown",
   "metadata": {},
   "source": [
    "#### Python Code\n",
    "To run this code, make sure you are in Level 3 Python"
   ]
  },
  {
   "cell_type": "code",
   "execution_count": 13,
   "metadata": {},
   "outputs": [],
   "source": [
    "/*\n",
    "#Let's look at the Python superclass Person and subclass Teacher\n",
    "class Person:\n",
    "\n",
    "    def __init__(self, firstName, lastName):\n",
    "        self.firstName = firstName\n",
    "        self.lastName = lastName\n",
    "\n",
    "    def Name(self):\n",
    "        return self.firstName + \" \" + self.lastName\n",
    "\n",
    "class Employee(Person):\n",
    "\n",
    "    def __init__(self, firstName, lastName, emplID):\n",
    "        Person.__init__(self,firstName, lastName)\n",
    "        self.emplID = emplID\n",
    "\n",
    "    def GetEmployee(self):\n",
    "        return self.Name() + \", \" +  self.emplID\n",
    "\n",
    "x = Person(\"Gunner\", \"Anderson\")\n",
    "y = Employee(\"Charlie\", \"Anderson\", \"1007\")\n",
    "\n",
    "print(x.Name())\n",
    "print(y.GetEmployee())\n",
    "*/"
   ]
  },
  {
   "cell_type": "markdown",
   "metadata": {},
   "source": [
    "#### Java Code\n",
    "To run this code, make sure you are in Level 3 Java"
   ]
  },
  {
   "cell_type": "code",
   "execution_count": 14,
   "metadata": {},
   "outputs": [
    {
     "name": "stderr",
     "output_type": "stream",
     "text": [
      "[ERROR] null\n",
      "groovy.lang.GroovyRuntimeException: Failed to create Script instance for class: class Person. Reason: java.lang.InstantiationException: Person\n",
      "\tat org.codehaus.groovy.runtime.InvokerHelper.createScript(InvokerHelper.java:466)\n",
      "\tat org.scijava.plugins.scripting.groovy.GroovyScriptEngine.eval(GroovyScriptEngine.java:239)\n",
      "\tat org.scijava.plugins.scripting.groovy.GroovyScriptEngine.eval(GroovyScriptEngine.java:122)\n",
      "\tat javax.script.AbstractScriptEngine.eval(AbstractScriptEngine.java:264)\n",
      "\tat org.scijava.script.ScriptModule.run(ScriptModule.java:160)\n",
      "\tat org.scijava.module.ModuleRunner.run(ModuleRunner.java:168)\n",
      "\tat org.scijava.jupyter.kernel.evaluator.Worker.run(Worker.java:108)\n",
      "\tat org.scijava.thread.DefaultThreadService$2.run(DefaultThreadService.java:221)\n",
      "\tat java.util.concurrent.Executors$RunnableAdapter.call(Executors.java:511)\n",
      "\tat java.util.concurrent.FutureTask.run(FutureTask.java:266)\n",
      "\tat java.util.concurrent.ThreadPoolExecutor.runWorker(ThreadPoolExecutor.java:1142)\n",
      "\tat java.util.concurrent.ThreadPoolExecutor$Worker.run(ThreadPoolExecutor.java:617)\n",
      "\tat java.lang.Thread.run(Thread.java:745)\n",
      "Caused by: java.lang.InstantiationException: Person\n",
      "\tat java.lang.Class.newInstance(Class.java:427)\n",
      "\tat org.codehaus.groovy.runtime.InvokerHelper.createScript(InvokerHelper.java:438)\n",
      "\t... 12 more\n",
      "Caused by: java.lang.NoSuchMethodException: Person.<init>()\n",
      "\tat java.lang.Class.getConstructor0(Class.java:3082)\n",
      "\tat java.lang.Class.newInstance(Class.java:412)\n",
      "\t... 13 more\n"
     ]
    }
   ],
   "source": [
    "//Let's create a person class in Java\n",
    "public class Person\n",
    "{\n",
    "    private String name;\n",
    "    private int birthYear;\n",
    "\n",
    "    public Person(String n, int byear)\n",
    "    {\n",
    "      name = n;\n",
    "      birthYear = byear;\n",
    "    }\n",
    "\n",
    "    public String toString()\n",
    "    {\n",
    "      return \"Person[name=\" + name + \",birthYear=\" + birthYear + \"]\";\n",
    "    }\n",
    "}"
   ]
  },
  {
   "cell_type": "code",
   "execution_count": 15,
   "metadata": {},
   "outputs": [
    {
     "name": "stderr",
     "output_type": "stream",
     "text": [
      "[ERROR] null\n",
      "groovy.lang.GroovyRuntimeException: Failed to create Script instance for class: class Teacher. Reason: java.lang.InstantiationException: Teacher\n",
      "\tat org.codehaus.groovy.runtime.InvokerHelper.createScript(InvokerHelper.java:466)\n",
      "\tat org.scijava.plugins.scripting.groovy.GroovyScriptEngine.eval(GroovyScriptEngine.java:239)\n",
      "\tat org.scijava.plugins.scripting.groovy.GroovyScriptEngine.eval(GroovyScriptEngine.java:122)\n",
      "\tat javax.script.AbstractScriptEngine.eval(AbstractScriptEngine.java:264)\n",
      "\tat org.scijava.script.ScriptModule.run(ScriptModule.java:160)\n",
      "\tat org.scijava.module.ModuleRunner.run(ModuleRunner.java:168)\n",
      "\tat org.scijava.jupyter.kernel.evaluator.Worker.run(Worker.java:108)\n",
      "\tat org.scijava.thread.DefaultThreadService$2.run(DefaultThreadService.java:221)\n",
      "\tat java.util.concurrent.Executors$RunnableAdapter.call(Executors.java:511)\n",
      "\tat java.util.concurrent.FutureTask.run(FutureTask.java:266)\n",
      "\tat java.util.concurrent.ThreadPoolExecutor.runWorker(ThreadPoolExecutor.java:1142)\n",
      "\tat java.util.concurrent.ThreadPoolExecutor$Worker.run(ThreadPoolExecutor.java:617)\n",
      "\tat java.lang.Thread.run(Thread.java:745)\n",
      "Caused by: java.lang.InstantiationException: Teacher\n",
      "\tat java.lang.Class.newInstance(Class.java:427)\n",
      "\tat org.codehaus.groovy.runtime.InvokerHelper.createScript(InvokerHelper.java:438)\n",
      "\t... 12 more\n",
      "Caused by: java.lang.NoSuchMethodException: Teacher.<init>()\n",
      "\tat java.lang.Class.getConstructor0(Class.java:3082)\n",
      "\tat java.lang.Class.newInstance(Class.java:412)\n",
      "\t... 13 more\n"
     ]
    }
   ],
   "source": [
    "//Let's extend our superclass, Person, in our subclass, Teacher\n",
    "public class Teacher extends Person\n",
    "{\n",
    "    private double salary;\n",
    "\n",
    "    public Teacher(String n, int byear, double s)\n",
    "    {\n",
    "      super(n, byear);\n",
    "      salary = s;\n",
    "    }\n",
    "\n",
    "    public String toString()\n",
    "    {\n",
    "      return \"Employee[super=\" + super.toString() + \",salary=\" + salary + \"]\";\n",
    "    }\n",
    "}"
   ]
  },
  {
   "cell_type": "code",
   "execution_count": 16,
   "metadata": {},
   "outputs": [
    {
     "name": "stdout",
     "output_type": "stream",
     "text": [
      "Employee[super=Person[name=Charlie Gunner,birthYear=1985],salary=95000.0]\n"
     ]
    }
   ],
   "source": [
    "//Let's see how it works!\n",
    "public class Run\n",
    "{\n",
    "  public static void main(String[] args)\n",
    "  {\n",
    "    Teacher t = new Teacher(\"Charlie Gunner\", 1985, 95000);\n",
    "    System.out.println(t);\n",
    "  }\n",
    "}"
   ]
  },
  {
   "cell_type": "markdown",
   "metadata": {},
   "source": [
    "# Resources\n",
    "The contend disucssed was explored using the following sources:\n",
    "* https://csis.pace.edu/~bergin/KarelJava2ed/ch2/javamain.html\n",
    "*  http://interactivepython.org/runestone/static/java4python/index.html\n",
    "* http://interactivepython.org/runestone/static/JavaReview/index.html\n",
    "* http://interactivepython.org/runestone/static/thinkcspy/index.html\n",
    "* https://docs.quantifiedcode.com/python-anti-patterns/correctness/implementing_java-style_getters_and_setters.html\n",
    "* http://masnun.rocks/2017/04/15/interfaces-in-python-protocols-and-abcs/"
   ]
  }
 ],
 "metadata": {
  "kernelspec": {
   "display_name": "SciJava",
   "language": "groovy",
   "name": "scijava"
  },
  "language_info": {
   "codemirror_mode": "groovy",
   "file_extension": "",
   "mimetype": "",
   "name": "scijava",
   "nbconverter_exporter": "",
   "pygments_lexer": "groovy",
   "version": "1.0"
  }
 },
 "nbformat": 4,
 "nbformat_minor": 2
}
