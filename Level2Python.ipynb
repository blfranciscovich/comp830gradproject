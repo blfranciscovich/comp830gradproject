{
 "cells": [
  {
   "cell_type": "markdown",
   "metadata": {},
   "source": [
    "Bridget Franciscovich\n",
    "COMP830\n",
    "University of New Hampshire"
   ]
  },
  {
   "cell_type": "markdown",
   "metadata": {},
   "source": [
    "# Level 2: Conditionals and Loops"
   ]
  },
  {
   "cell_type": "markdown",
   "metadata": {},
   "source": [
    "## 2a \n",
    "### If Statements\n",
    "Conditional statements in Python and Java are very similar. \n",
    "\n",
    "In Python, there three patterns:\n",
    "    1. if\n",
    "    2. if else\n",
    "    3. elif\n",
    "In Java, there are also three patterns:\n",
    "    1. if\n",
    "    2. else\n",
    "    3. else if\n",
    "\n",
    "Some of the most important differences between these languages in the code below are:\n",
    "1. In Java, you need to use curly brackets to organize your code\n",
    "2. In Python, you need to use consistent tabs and spaces to organize your code"
   ]
  },
  {
   "cell_type": "markdown",
   "metadata": {},
   "source": [
    "#### Python Code\n",
    "To run this code, make sure you are in Level 2 Python"
   ]
  },
  {
   "cell_type": "code",
   "execution_count": 5,
   "metadata": {},
   "outputs": [
    {
     "name": "stdout",
     "output_type": "stream",
     "text": [
      "A\n"
     ]
    }
   ],
   "source": [
    "#Let's write a conditional statement!\n",
    "grade = 95\n",
    "\n",
    "#Let's start with an if statement\n",
    "if grade < 60:\n",
    "    print('F')\n",
    "    \n",
    "#Now, let's use else if or what's called elif in Python\n",
    "elif grade < 70:\n",
    "    print('D')\n",
    "elif grade < 80:\n",
    "    print('C')\n",
    "elif grade < 90:\n",
    "    print('B')\n",
    "\n",
    "#Let's end with an else\n",
    "else:\n",
    "    print('A')"
   ]
  },
  {
   "cell_type": "markdown",
   "metadata": {},
   "source": [
    "#### Java Code\n",
    "To run this code, make sure you are in Level 2 Java"
   ]
  },
  {
   "cell_type": "code",
   "execution_count": 3,
   "metadata": {},
   "outputs": [
    {
     "data": {
      "text/plain": [
       "\"\\n//Let's write a conditional statement!\\nint grade = 95;\\n\\n//Let's start with an if statement\\nif (grade < 60) {\\n    System.out.println('F');\\n    \\n    //Now, let's use else if\\n    } else if (grade < 70) {\\n        System.out.println('D');\\n    } else if (grade < 80) {\\n        System.out.println('C');\\n    } else if (grade < 90) {\\n        System.out.println('B');\\n    \\n    //Let's end with an else\\n    } else {\\n        System.out.println('A');\\n    }\\n\""
      ]
     },
     "execution_count": 3,
     "metadata": {},
     "output_type": "execute_result"
    }
   ],
   "source": [
    "'''\n",
    "//Let's write a conditional statement!\n",
    "int grade = 95;\n",
    "\n",
    "//Let's start with an if statement\n",
    "if (grade < 60) {\n",
    "    System.out.println('F');\n",
    "    \n",
    "    //Now, let's use else if\n",
    "    } else if (grade < 70) {\n",
    "        System.out.println('D');\n",
    "    } else if (grade < 80) {\n",
    "        System.out.println('C');\n",
    "    } else if (grade < 90) {\n",
    "        System.out.println('B');\n",
    "    \n",
    "    //Let's end with an else\n",
    "    } else {\n",
    "        System.out.println('A');\n",
    "    }\n",
    "'''"
   ]
  },
  {
   "cell_type": "markdown",
   "metadata": {},
   "source": [
    "## 2b \n",
    "### Switch Cases\n",
    "Python doesn't use switch cases and instead use if, elif, and if else statements. Java programmers do however use switch cases in their programs. We can implement a switch case in Python, but it isn't common or widely used.\n",
    "\n",
    "Some of the most important differences between these languages in the code below are:\n",
    "1. In Python, we use a dictionary to mimic the switch case\n",
    "2. In Python, since we don't declare data types, to disregard the remainder, use //\n",
    "3. In Python, the default in the switch case goes in the get statement"
   ]
  },
  {
   "cell_type": "markdown",
   "metadata": {},
   "source": [
    "#### Python Code\n",
    "To run this code, make sure you are in Level 2 Python"
   ]
  },
  {
   "cell_type": "code",
   "execution_count": 2,
   "metadata": {},
   "outputs": [
    {
     "name": "stdout",
     "output_type": "stream",
     "text": [
      "F\n"
     ]
    }
   ],
   "source": [
    "grade = 95\n",
    "\n",
    "#Divide grade by 10 and get disregard the remainer\n",
    "letterGrade = grade // 10\n",
    "\n",
    "switch = {\n",
    "    10: 'Perfect Score!',\n",
    "    9: 'A',\n",
    "    8: 'B',\n",
    "    7: 'C',\n",
    "    6: 'D',\n",
    "}\n",
    "\n",
    "# Get the letter grade then state 'F' as the default\n",
    "print (switch.get(letterGrade, 'F'))"
   ]
  },
  {
   "cell_type": "markdown",
   "metadata": {},
   "source": [
    "#### Java Code\n",
    "To run this code, make sure you are in Level 2 Java"
   ]
  },
  {
   "cell_type": "code",
   "execution_count": null,
   "metadata": {},
   "outputs": [],
   "source": [
    "'''\n",
    "int grade = 65;\n",
    "int letterGrade = grade / 10;\n",
    "\n",
    "switch (letterGrade) {\n",
    "    case 10:\n",
    "        System.out.println('Perfect Score!');\n",
    "        break;\n",
    "    case 9:\n",
    "        System.out.println('Perfect Score!');\n",
    "        break;\n",
    "    case 8:\n",
    "        System.out.println('Perfect Score!');\n",
    "        break;  \n",
    "    case 7:\n",
    "        System.out.println('Perfect Score!');\n",
    "        break; \n",
    "    case 6:\n",
    "        System.out.println('Perfect Score!');\n",
    "        break;         \n",
    "    //State 'F' as the default\n",
    "    default:\n",
    "        System.out.println('F');   \n",
    "        break;\n",
    "}\n",
    "'''"
   ]
  },
  {
   "cell_type": "markdown",
   "metadata": {},
   "source": [
    "## 2c\n",
    "### Loops and Iteration\n",
    "a loop is a sequence of coded instructions that are continually repeated until the stated condition is met.\n",
    "\n",
    "Some of the most important differences between these languages in the code below are:\n",
    "1. In Java, we need to declare the initialized condition, testing condition, and increment/decrement\n",
    "2. In Python, many of the needed declarations in Java are assumed by the program\n",
    "3. However, in Python you can declare it using all of the range functions: range(stop), range(start,stop), range(start,stop,step)\n",
    "4. In Java, there is a do statement that is similar to the while statement; however, the condition is at the end"
   ]
  },
  {
   "cell_type": "markdown",
   "metadata": {},
   "source": [
    "#### Python Code\n",
    "To run this code, make sure you are in Level 2 Python"
   ]
  },
  {
   "cell_type": "code",
   "execution_count": 18,
   "metadata": {},
   "outputs": [
    {
     "name": "stdout",
     "output_type": "stream",
     "text": [
      "0\n",
      "1\n",
      "2\n",
      "3\n",
      "4\n",
      "5\n",
      "6\n",
      "7\n",
      "8\n",
      "9\n",
      "\n",
      "\n",
      "0\n",
      "1\n",
      "2\n",
      "3\n",
      "4\n",
      "5\n",
      "6\n",
      "7\n",
      "8\n",
      "9\n",
      "\n",
      "\n",
      "0\n",
      "1\n",
      "2\n",
      "3\n",
      "4\n",
      "5\n",
      "6\n",
      "7\n",
      "8\n",
      "9\n",
      "\n",
      "\n",
      "9\n",
      "8\n",
      "7\n",
      "6\n",
      "5\n",
      "4\n",
      "3\n",
      "2\n",
      "1\n",
      "0\n"
     ]
    }
   ],
   "source": [
    "#Let's write a for loop\n",
    "for i in range(10):\n",
    "    print(i)\n",
    "#So we can see the different loops, let's put a space between them\n",
    "print('\\n')\n",
    "\n",
    "#Let's use more of the range functions\n",
    "for i in range(0, 10):\n",
    "    print(i)\n",
    "print('\\n')\n",
    "\n",
    "#Let's use all of the range functions\n",
    "for i in range(0, 10, 1):\n",
    "    print(i)\n",
    "print('\\n')\n",
    "\n",
    "#Let's write a while loop\n",
    "i = 10\n",
    "while (i > 0):\n",
    "    i -= 1\n",
    "    print(i)"
   ]
  },
  {
   "cell_type": "markdown",
   "metadata": {},
   "source": [
    "#### Java Code\n",
    "To run this code, make sure you are in Level 2 Java"
   ]
  },
  {
   "cell_type": "code",
   "execution_count": 19,
   "metadata": {},
   "outputs": [
    {
     "data": {
      "text/plain": [
       "\"\\n//initialized condition; testing condition; increment/decrement\\nfor (Integer i = 0; i < 10; i++ ) {\\n    System.out.println(i);\\n}\\n//So we can see the different loops, let's put a space between them\\nSystem.out.println('\\n');\\n\\n//Let's write a while loop\\nint i = 10;\\nwhile (i > 0){\\n    i--;\\n    System.out.println(i);\\n}\\nSystem.out.println('\\n');\\n\\n//Let's write a do statement\\n//Jupyter Notebook does not support do statements in Java\\n//int i = 10;\\n//do {\\n//    i--;\\n//    System.out.println(i);\\n//} while (i > 0);\\n\""
      ]
     },
     "execution_count": 19,
     "metadata": {},
     "output_type": "execute_result"
    }
   ],
   "source": [
    "'''\n",
    "//initialized condition; testing condition; increment/decrement\n",
    "for (Integer i = 0; i < 10; i++ ) {\n",
    "    System.out.println(i);\n",
    "}\n",
    "//So we can see the different loops, let's put a space between them\n",
    "System.out.println('\\n');\n",
    "\n",
    "//Let's write a while loop\n",
    "int i = 10;\n",
    "while (i > 0){\n",
    "    i--;\n",
    "    System.out.println(i);\n",
    "}\n",
    "System.out.println('\\n');\n",
    "\n",
    "//Let's write a do statement\n",
    "//Jupyter Notebook does not support do statements in Java\n",
    "//int i = 10;\n",
    "//do {\n",
    "//    i--;\n",
    "//    System.out.println(i);\n",
    "//} while (i > 0);\n",
    "'''"
   ]
  },
  {
   "cell_type": "markdown",
   "metadata": {},
   "source": [
    "# Resources\n",
    "The contend disucssed was explored using the following sources:\n",
    "* https://csis.pace.edu/~bergin/KarelJava2ed/ch2/javamain.html\n",
    "* http://interactivepython.org/runestone/static/java4python/index.html\n",
    "* http://interactivepython.org/runestone/static/JavaReview/index.html\n",
    "* http://interactivepython.org/runestone/static/thinkcspy/index.html\n",
    "* https://docs.quantifiedcode.com/python-anti-patterns/correctness/implementing_java-style_getters_and_setters.html\n",
    "* http://masnun.rocks/2017/04/15/interfaces-in-python-protocols-and-abcs/"
   ]
  }
 ],
 "metadata": {
  "kernelspec": {
   "display_name": "Python 3",
   "language": "python",
   "name": "python3"
  },
  "language_info": {
   "codemirror_mode": {
    "name": "ipython",
    "version": 3
   },
   "file_extension": ".py",
   "mimetype": "text/x-python",
   "name": "python",
   "nbconvert_exporter": "python",
   "pygments_lexer": "ipython3",
   "version": "3.6.5"
  }
 },
 "nbformat": 4,
 "nbformat_minor": 2
}
