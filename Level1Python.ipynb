{
 "cells": [
  {
   "cell_type": "markdown",
   "metadata": {},
   "source": [
    "Bridget Franciscovich\n",
    "COMP830\n",
    "University of New Hampshire"
   ]
  },
  {
   "cell_type": "markdown",
   "metadata": {},
   "source": [
    "# Level 1: Data Types"
   ]
  },
  {
   "cell_type": "markdown",
   "metadata": {},
   "source": [
    "## 1a \n",
    "### Numeric data types and variables\n",
    "Every coding language uses data types, for example, strings, integers, float, double, and booleans.\n",
    "\n",
    "Variables allow us to store values. In programming, we declare variables to help save memory, redundancy and improve functionality.\n",
    "\n",
    "Some of the most important differences between these languages in the code below are:\n",
    "1. Java requires programmers to declare the data types\n",
    "2. Java requires; after each line\n",
    "3. The printing functions are different\n",
    "4. In programming, floats and doubles are similar; however floats can contain up to 7 digits, and doubles can contain  up to16 digits; this is why it is essential to declare the correct data type in Java"
   ]
  },
  {
   "cell_type": "markdown",
   "metadata": {},
   "source": [
    "#### Python Code\n",
    "To run this code, make sure you are in Level 1 Python"
   ]
  },
  {
   "cell_type": "code",
   "execution_count": 1,
   "metadata": {},
   "outputs": [
    {
     "name": "stdout",
     "output_type": "stream",
     "text": [
      "5\n",
      "5.5\n",
      "Python\n",
      "Python can use single or double quotes!\n",
      "Python can use single, double, or triple quotes!\n",
      "Python can use single, double, or triple quotes!\n",
      "True\n",
      "False\n"
     ]
    }
   ],
   "source": [
    "# This is a Python comment\n",
    "\n",
    "# Let's declare an integer variable\n",
    "a = 5\n",
    "print(a)\n",
    "\n",
    "# Let's declare a float or double variable\n",
    "b = 5.5\n",
    "print(b)\n",
    "\n",
    "# Let's declare a string variable\n",
    "c = 'Python'\n",
    "print(c)\n",
    "\n",
    "# Let's declare a second string variable\n",
    "d = \"Python can use single or double quotes!\"\n",
    "print(d)\n",
    "\n",
    "# Let's declare a third string variable\n",
    "e = \"\"\"Python can use single, double, or triple quotes!\"\"\"\n",
    "print(e)\n",
    "\n",
    "# Let's declare a foruth string variable\n",
    "f = '''Python can use single, double, or triple quotes!'''\n",
    "print(f)\n",
    "\n",
    "# Let's declare a boolean variable\n",
    "g = True\n",
    "print(g)\n",
    "\n",
    "# Let's declare a second boolean variable\n",
    "h = False\n",
    "print(h)"
   ]
  },
  {
   "cell_type": "markdown",
   "metadata": {},
   "source": [
    "#### Java Code\n",
    "To run this code, make sure you are in Level 1 Java"
   ]
  },
  {
   "cell_type": "code",
   "execution_count": 2,
   "metadata": {},
   "outputs": [
    {
     "data": {
      "text/plain": [
       "'\\n\\'\\'\\' --> this is a multi-line comment in Python, however, we need to use three double quotes because of the code belows use of quotes. Three double quotes is used as docstrings in Python.\\n\\n// This is a Java comment\\n\\n// Let\\'s declare an integer variable\\nint a = 5;\\nSystem.out.println(a);\\n\\n// Let\\'s declare a float variable\\nfloat b = 5.5;\\nSystem.out.println(b);\\n\\n// Let\\'s declare a double variable\\ndouble c = 5.5;\\nSystem.out.println(c);\\n\\n// Let\\'s declare a string variable\\nString d = \\'Java\\';\\nSystem.out.println(d);\\n\\n// Let\\'s declare a second string variable\\nString e = \"Java can use single or double quotes!\";\\nSystem.out.println(e);\\n\\n// Let\\'s declare a third string variable\\nString f = \\'\\'\\'Java can use single, double, or triple quotes!\\'\\'\\';\\nSystem.out.println(f);\\n\\n// Let\\'s declare a boolean variable\\nboolean g = true;\\nSystem.out.println(g);\\n\\n// Let\\'s declare a second boolean variable\\nboolean h = false;\\nSystem.out.println(h);\\n\\n\\'\\'\\'\\n'"
      ]
     },
     "execution_count": 2,
     "metadata": {},
     "output_type": "execute_result"
    }
   ],
   "source": [
    "\"\"\"\n",
    "''' --> this is a multi-line comment in Python, however, we need to use three double quotes because of the code belows use of quotes. Three double quotes is used as docstrings in Python.\n",
    "\n",
    "// This is a Java comment\n",
    "\n",
    "// Let's declare an integer variable\n",
    "int a = 5;\n",
    "System.out.println(a);\n",
    "\n",
    "// Let's declare a float variable\n",
    "float b = 5.5;\n",
    "System.out.println(b);\n",
    "\n",
    "// Let's declare a double variable\n",
    "double c = 5.5;\n",
    "System.out.println(c);\n",
    "\n",
    "// Let's declare a string variable\n",
    "String d = 'Java';\n",
    "System.out.println(d);\n",
    "\n",
    "// Let's declare a second string variable\n",
    "String e = \"Java can use single or double quotes!\";\n",
    "System.out.println(e);\n",
    "\n",
    "// Let's declare a third string variable\n",
    "String f = '''Java can use single, double, or triple quotes!''';\n",
    "System.out.println(f);\n",
    "\n",
    "// Let's declare a boolean variable\n",
    "boolean g = true;\n",
    "System.out.println(g);\n",
    "\n",
    "// Let's declare a second boolean variable\n",
    "boolean h = false;\n",
    "System.out.println(h);\n",
    "\n",
    "'''\n",
    "\"\"\""
   ]
  },
  {
   "cell_type": "markdown",
   "metadata": {},
   "source": [
    "## 1b\n",
    "### Changing variables\n",
    "As you can see below, in Python, a variable can be changed to different types easily. However, in Java, if a variable was declared as an integer, if you try to assign it a value of a double, it will be given the value of the number before the decimal. However, if you try to assign an integer variable to a string value, you will be given an error.\n",
    "\n",
    "Some of the most important differences between these languages in the code below are:\n",
    "1. In Java, you can't switch between datatypes for variables\n",
    "2. In Python, datatypes don't need to be assigned"
   ]
  },
  {
   "cell_type": "markdown",
   "metadata": {},
   "source": [
    "#### Python Code\n",
    "To run this code, make sure you are in Level 1 Python"
   ]
  },
  {
   "cell_type": "code",
   "execution_count": 3,
   "metadata": {},
   "outputs": [
    {
     "name": "stdout",
     "output_type": "stream",
     "text": [
      "6.3\n",
      "6.3\n"
     ]
    }
   ],
   "source": [
    "a = 5\n",
    "b = 6.3\n",
    "a = b\n",
    "\n",
    "print(a)\n",
    "\n",
    "a = 5\n",
    "b = \"6.3\"\n",
    "a = b\n",
    "print(a)"
   ]
  },
  {
   "cell_type": "markdown",
   "metadata": {},
   "source": [
    "#### Java Code\n",
    "To run this code, make sure you are in Level 1 Java"
   ]
  },
  {
   "cell_type": "code",
   "execution_count": 4,
   "metadata": {},
   "outputs": [
    {
     "data": {
      "text/plain": [
       "'\\nint a = 5;\\ndouble b = 6.3;\\na = b;\\n\\nSystem.out.println(a);\\n\\n//The following code will give you an error, to test it, remove the comments.\\n//int a = 5;\\n//String b = \"6.3\";\\n//a = b;\\n//System.out.println(a);\\n'"
      ]
     },
     "execution_count": 4,
     "metadata": {},
     "output_type": "execute_result"
    }
   ],
   "source": [
    "'''\n",
    "int a = 5;\n",
    "double b = 6.3;\n",
    "a = b;\n",
    "\n",
    "System.out.println(a);\n",
    "\n",
    "//The following code will give you an error, to test it, remove the comments.\n",
    "//int a = 5;\n",
    "//String b = \"6.3\";\n",
    "//a = b;\n",
    "//System.out.println(a);\n",
    "'''"
   ]
  },
  {
   "cell_type": "markdown",
   "metadata": {},
   "source": [
    "## 1c\n",
    "### Strings\n",
    "Strings are used throughout every coding language. Python and Java use strings similarly as they are immutable in both languages, meaning they cannot be changed, but they can be manipulated, as seen below.\n",
    "\n",
    "Some of the most important differences between these languages in the code below are:\n",
    "1. In Java, you need to declare the variable as a String\n",
    "2. In Python, datatypes don't need to be assigned"
   ]
  },
  {
   "cell_type": "markdown",
   "metadata": {},
   "source": [
    "#### Python Code\n",
    "To run this code, make sure you are in Level 1 Python"
   ]
  },
  {
   "cell_type": "code",
   "execution_count": 5,
   "metadata": {},
   "outputs": [
    {
     "data": {
      "text/plain": [
       "'t'"
      ]
     },
     "execution_count": 5,
     "metadata": {},
     "output_type": "execute_result"
    }
   ],
   "source": [
    "#Let's return the character in the 2nd index\n",
    "a = 'Python'\n",
    "a[2]"
   ]
  },
  {
   "cell_type": "code",
   "execution_count": 6,
   "metadata": {},
   "outputs": [
    {
     "data": {
      "text/plain": [
       "'th'"
      ]
     },
     "execution_count": 6,
     "metadata": {},
     "output_type": "execute_result"
    }
   ],
   "source": [
    "#Let's try slicing! Let's return the characters from index 2 to 4\n",
    "a[2:4]"
   ]
  },
  {
   "cell_type": "code",
   "execution_count": 7,
   "metadata": {},
   "outputs": [
    {
     "data": {
      "text/plain": [
       "6"
      ]
     },
     "execution_count": 7,
     "metadata": {},
     "output_type": "execute_result"
    }
   ],
   "source": [
    "#Let's return the length of the string\n",
    "len(c)"
   ]
  },
  {
   "cell_type": "code",
   "execution_count": 8,
   "metadata": {},
   "outputs": [
    {
     "data": {
      "text/plain": [
       "2"
      ]
     },
     "execution_count": 8,
     "metadata": {},
     "output_type": "execute_result"
    }
   ],
   "source": [
    "#Let's find the first occurence of t\n",
    "a.find('t')"
   ]
  },
  {
   "cell_type": "code",
   "execution_count": 9,
   "metadata": {},
   "outputs": [
    {
     "data": {
      "text/plain": [
       "'Python is the best'"
      ]
     },
     "execution_count": 9,
     "metadata": {},
     "output_type": "execute_result"
    }
   ],
   "source": [
    "#Let's split the string when there is white space into a list or array of strings\n",
    "a = 'Python is the best'\n",
    "a"
   ]
  },
  {
   "cell_type": "code",
   "execution_count": 10,
   "metadata": {},
   "outputs": [
    {
     "data": {
      "text/plain": [
       "'Python is an interpreted coding language'"
      ]
     },
     "execution_count": 10,
     "metadata": {},
     "output_type": "execute_result"
    }
   ],
   "source": [
    "#Let's concatenate two strings together\n",
    "a = 'Python is an '\n",
    "b = 'interpreted coding language'\n",
    "\n",
    "a + b"
   ]
  },
  {
   "cell_type": "markdown",
   "metadata": {},
   "source": [
    "#### Java Code\n",
    "To run this code, make sure you are in Level 1 Java"
   ]
  },
  {
   "cell_type": "code",
   "execution_count": 11,
   "metadata": {},
   "outputs": [
    {
     "data": {
      "text/plain": [
       "\"\\n//Let's return the character in the 2nd index\\nString a = 'Java';\\na.charAt(2);\\n\""
      ]
     },
     "execution_count": 11,
     "metadata": {},
     "output_type": "execute_result"
    }
   ],
   "source": [
    "'''\n",
    "//Let's return the character in the 2nd index\n",
    "String a = 'Java';\n",
    "a.charAt(2);\n",
    "'''"
   ]
  },
  {
   "cell_type": "code",
   "execution_count": 12,
   "metadata": {},
   "outputs": [
    {
     "data": {
      "text/plain": [
       "\"\\n//Let's try slicing! Let's return the characters from index 2 to 4\\nString a = 'Java';\\na.substring(2,4);\\n\""
      ]
     },
     "execution_count": 12,
     "metadata": {},
     "output_type": "execute_result"
    }
   ],
   "source": [
    "'''\n",
    "//Let's try slicing! Let's return the characters from index 2 to 4\n",
    "String a = 'Java';\n",
    "a.substring(2,4);\n",
    "'''"
   ]
  },
  {
   "cell_type": "code",
   "execution_count": 13,
   "metadata": {},
   "outputs": [
    {
     "data": {
      "text/plain": [
       "\"\\n//Let's return the length of the string\\nString a = 'Java';\\na.length();\\n\""
      ]
     },
     "execution_count": 13,
     "metadata": {},
     "output_type": "execute_result"
    }
   ],
   "source": [
    "'''\n",
    "//Let's return the length of the string\n",
    "String a = 'Java';\n",
    "a.length();\n",
    "'''"
   ]
  },
  {
   "cell_type": "code",
   "execution_count": 14,
   "metadata": {},
   "outputs": [
    {
     "data": {
      "text/plain": [
       "\"\\n//Let's find the first occurence of a\\nString a = 'Java';\\na.indexOf('a');\\n\""
      ]
     },
     "execution_count": 14,
     "metadata": {},
     "output_type": "execute_result"
    }
   ],
   "source": [
    "'''\n",
    "//Let's find the first occurence of a\n",
    "String a = 'Java';\n",
    "a.indexOf('a');\n",
    "'''"
   ]
  },
  {
   "cell_type": "code",
   "execution_count": 15,
   "metadata": {},
   "outputs": [
    {
     "data": {
      "text/plain": [
       "\"\\n//Let's split the string when there is white space into a list or array of strings\\nb = 'Java is the best';\\nString[] c = b.split('\\\\s+');\\nSystem.out.println(c);\\n\""
      ]
     },
     "execution_count": 15,
     "metadata": {},
     "output_type": "execute_result"
    }
   ],
   "source": [
    "'''\n",
    "//Let's split the string when there is white space into a list or array of strings\n",
    "b = 'Java is the best';\n",
    "String[] c = b.split('\\\\s+');\n",
    "System.out.println(c);\n",
    "'''"
   ]
  },
  {
   "cell_type": "code",
   "execution_count": 16,
   "metadata": {},
   "outputs": [
    {
     "data": {
      "text/plain": [
       "\"\\n//Let's concatenate two strings together\\na = 'Java is an ';;\\nb = 'interpreted and compiled coding language'\\na.concat(b);\\n\""
      ]
     },
     "execution_count": 16,
     "metadata": {},
     "output_type": "execute_result"
    }
   ],
   "source": [
    "'''\n",
    "//Let's concatenate two strings together\n",
    "a = 'Java is an ';;\n",
    "b = 'interpreted and compiled coding language'\n",
    "a.concat(b);\n",
    "'''"
   ]
  },
  {
   "cell_type": "markdown",
   "metadata": {},
   "source": [
    "## 1d\n",
    "### Lists & ArrayLists\n",
    "Lists in Python are very similar to ArrayLists in Java. \n",
    "\n",
    "Some of the most important differences between these languages in the code below are:\n",
    "1. In Java, you can't switch between datatypes in an ArrayList, and only one datatype can be in a list\n",
    "2. In Python, data types don't need to be assigned, and lists can contain different datatypes. In Python, datatypes don't need to be assigned."
   ]
  },
  {
   "cell_type": "markdown",
   "metadata": {},
   "source": [
    "#### Python Code\n",
    "To run this code, make sure you are in Level 1 Python"
   ]
  },
  {
   "cell_type": "code",
   "execution_count": 17,
   "metadata": {},
   "outputs": [
    {
     "name": "stdout",
     "output_type": "stream",
     "text": [
      "['Python', 'Java', 'C', 'C++']\n",
      "[1, 2, 3, 4]\n",
      "[1, 'Python', 2, 'Java']\n"
     ]
    }
   ],
   "source": [
    "#Let's create a list of strings\n",
    "stringList = [\"Python\", \"Java\", \"C\", \"C++\"]\n",
    "print(stringList)\n",
    "\n",
    "#Let's create a list of integers\n",
    "integerList = [1, 2, 3, 4]\n",
    "print(integerList)\n",
    "\n",
    "#Let's create a list of strings and integers\n",
    "intstrList = [1, \"Python\", 2, \"Java\"]\n",
    "print(intstrList)"
   ]
  },
  {
   "cell_type": "code",
   "execution_count": 18,
   "metadata": {},
   "outputs": [
    {
     "data": {
      "text/plain": [
       "'\\n//Let\\'s create an array list of strings\\nArrayList<String> stringList = new ArrayList<String>();\\nstringList.add(\"Python\");\\nstringList.add(\"Java\");\\nstringList.add(\"C\");\\nstringList.add(\"C++\");\\nSystem.out.println(stringList);\\n\\n//Let\\'s create a list of integers\\nArrayList<Integer> integerList = new ArrayList<Integer>();\\nintegerList.add(1);\\nintegerList.add(2);\\nintegerList.add(3);\\nintegerList.add(4);\\nSystem.out.println(integerList);\\n'"
      ]
     },
     "execution_count": 18,
     "metadata": {},
     "output_type": "execute_result"
    }
   ],
   "source": [
    "'''\n",
    "//Let's create an array list of strings\n",
    "ArrayList<String> stringList = new ArrayList<String>();\n",
    "stringList.add(\"Python\");\n",
    "stringList.add(\"Java\");\n",
    "stringList.add(\"C\");\n",
    "stringList.add(\"C++\");\n",
    "System.out.println(stringList);\n",
    "\n",
    "//Let's create a list of integers\n",
    "ArrayList<Integer> integerList = new ArrayList<Integer>();\n",
    "integerList.add(1);\n",
    "integerList.add(2);\n",
    "integerList.add(3);\n",
    "integerList.add(4);\n",
    "System.out.println(integerList);\n",
    "'''"
   ]
  },
  {
   "cell_type": "markdown",
   "metadata": {},
   "source": [
    "## 1e\n",
    "### Dictionaries\n",
    "A dictionary is a collection of keys and values that are unordered, changeable and indexed.\n",
    "\n",
    "Some of the most important differences between these languages in the code below are:\n",
    "1. Java dictionaries are called maps\n",
    "2. Java maps cannot switch between datatypes\n"
   ]
  },
  {
   "cell_type": "markdown",
   "metadata": {},
   "source": [
    "#### Python Code\n",
    "To run this code, make sure you are in Level 1 Python"
   ]
  },
  {
   "cell_type": "code",
   "execution_count": 19,
   "metadata": {},
   "outputs": [
    {
     "name": "stdout",
     "output_type": "stream",
     "text": [
      "{'language': 'Python', 'type': 'interpreted', 'released': 1991}\n",
      "interpreted\n",
      "{'language': 'Python', 'type': 'interpreted', 'released': 2018}\n"
     ]
    }
   ],
   "source": [
    "#Let's create a dictionary, the key is before the semicolon, the value is after --> key:value\n",
    "ourDict = {\"language\": \"Python\", \"type\":\"interpreted\", \"released\": 1991}\n",
    "print(ourDict)\n",
    "\n",
    "#Let's get the value or the type key\n",
    "a = ourDict[\"type\"]\n",
    "print(a)\n",
    "\n",
    "#Let's change the values\n",
    "ourDict[\"released\"] = 2018;\n",
    "print(ourDict)"
   ]
  },
  {
   "cell_type": "markdown",
   "metadata": {},
   "source": [
    "#### Java Code\n",
    "To run this code, make sure you are in Level 1 Java"
   ]
  },
  {
   "cell_type": "code",
   "execution_count": 20,
   "metadata": {},
   "outputs": [
    {
     "data": {
      "text/plain": [
       "'\\n//Let\\'s create a dictionary, the key is first, followed by the value --> key, value\\nHashMap<String, String> ourDict = new HashMap<String, String>();\\nourDict.put(\"language\", \"Java\");\\nourDict.put(\"type\", \"interpreted and compiled\");\\nourDict.put(\"released\", \"1995\");\\nSystem.out.println(ourDict);\\n\\n//Let\\'s get the value or the type key\\na = ourDict.get(\"type\");\\nSystem.out.println(a);\\n\\n//Let\\'s change the values\\nourDict.put(\"released\", \"2018\");\\nSystem.out.println(ourDict);\\n'"
      ]
     },
     "execution_count": 20,
     "metadata": {},
     "output_type": "execute_result"
    }
   ],
   "source": [
    "'''\n",
    "//Let's create a dictionary, the key is first, followed by the value --> key, value\n",
    "HashMap<String, String> ourDict = new HashMap<String, String>();\n",
    "ourDict.put(\"language\", \"Java\");\n",
    "ourDict.put(\"type\", \"interpreted and compiled\");\n",
    "ourDict.put(\"released\", \"1995\");\n",
    "System.out.println(ourDict);\n",
    "\n",
    "//Let's get the value or the type key\n",
    "a = ourDict.get(\"type\");\n",
    "System.out.println(a);\n",
    "\n",
    "//Let's change the values\n",
    "ourDict.put(\"released\", \"2018\");\n",
    "System.out.println(ourDict);\n",
    "'''"
   ]
  },
  {
   "cell_type": "markdown",
   "metadata": {},
   "source": [
    "# Resources\n",
    "The contend disucssed was explored using the following sources:\n",
    "* https://csis.pace.edu/~bergin/KarelJava2ed/ch2/javamain.html\n",
    "*  http://interactivepython.org/runestone/static/java4python/index.html\n",
    "* http://interactivepython.org/runestone/static/JavaReview/index.html\n",
    "* http://interactivepython.org/runestone/static/thinkcspy/index.html\n",
    "* https://docs.quantifiedcode.com/python-anti-patterns/correctness/implementing_java-style_getters_and_setters.html\n",
    "* http://masnun.rocks/2017/04/15/interfaces-in-python-protocols-and-abcs/"
   ]
  }
 ],
 "metadata": {
  "kernelspec": {
   "display_name": "Python 3",
   "language": "python",
   "name": "python3"
  },
  "language_info": {
   "codemirror_mode": {
    "name": "ipython",
    "version": 3
   },
   "file_extension": ".py",
   "mimetype": "text/x-python",
   "name": "python",
   "nbconvert_exporter": "python",
   "pygments_lexer": "ipython3",
   "version": "3.6.5"
  }
 },
 "nbformat": 4,
 "nbformat_minor": 2
}
